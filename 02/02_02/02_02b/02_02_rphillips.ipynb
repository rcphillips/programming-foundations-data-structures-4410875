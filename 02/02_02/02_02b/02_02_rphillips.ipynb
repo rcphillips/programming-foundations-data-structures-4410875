{
 "cells": [
  {
   "cell_type": "code",
   "execution_count": null,
   "metadata": {},
   "outputs": [],
   "source": [
    "student_pet_count_list = [0,1,0,2,1,1,4,0,0,0,3,2,1,30,2,2]"
   ]
  },
  {
   "cell_type": "code",
   "execution_count": null,
   "metadata": {},
   "outputs": [
    {
     "data": {
      "text/plain": [
       "16\n"
      ]
     },
     "metadata": {},
     "output_type": "display_data"
    }
   ],
   "source": [
    "NUM_STUDENTS=len(student_pet_count_list)\n",
    "ITEM_AT_INDEX_THREE = student_pet_count_list[3]\n",
    "ITEM_THREE_FROM_BACK = student_pet_count_list[-3]"
   ]
  },
  {
   "cell_type": "code",
   "execution_count": null,
   "metadata": {},
   "outputs": [
    {
     "data": {
      "text/plain": [
       "16\n",
       "2\n",
       "30\n"
      ]
     },
     "metadata": {},
     "output_type": "display_data"
    }
   ],
   "source": [
    "print(NUM_STUDENTS)\n",
    "print(ITEM_AT_INDEX_THREE)\n",
    "print(ITEM_THREE_FROM_BACK)\n",
    "\n",
    "SUM = 0\n",
    "for i in student_pet_count_list:\n",
    "  SUM = SUM + i"
   ]
  },
  {
   "cell_type": "code",
   "execution_count": null,
   "metadata": {},
   "outputs": [
    {
     "data": {
      "text/plain": [
       "2\n",
       "3\n"
      ]
     },
     "metadata": {},
     "output_type": "display_data"
    }
   ],
   "source": [
    "student_pet_count_list[2]=3\n",
    "print(student_pet_count_list[3])\n",
    "student_pet_count_list[3] = student_pet_count_list[3] + 1\n",
    "print(student_pet_count_list[3])\n"
   ]
  },
  {
   "cell_type": "code",
   "execution_count": null,
   "metadata": {},
   "outputs": [],
   "source": [
    "student_pet_count_list.append(4)"
   ]
  },
  {
   "cell_type": "code",
   "execution_count": null,
   "metadata": {},
   "outputs": [],
   "source": [
    "NUM_STUDENTS=len(student_pet_count_list)\n",
    "SUM = 0\n",
    "for i in student_pet_count_list:\n",
    "  SUM = SUM + i"
   ]
  },
  {
   "cell_type": "code",
   "execution_count": null,
   "metadata": {},
   "outputs": [
    {
     "data": {
      "text/plain": [
       "3.3529411764705883\n"
      ]
     },
     "metadata": {},
     "output_type": "display_data"
    }
   ],
   "source": [
    "# average = sum/num items\n",
    "AVERAGE = SUM/NUM_STUDENTS\n",
    "print(num_students)\n",
    "print(AVERAGE)"
   ]
  },
  {
   "cell_type": "code",
   "execution_count": null,
   "metadata": {},
   "outputs": [],
   "source": []
  }
 ],
 "metadata": {
  "language_info": {
   "name": "python"
  }
 },
 "nbformat": 4,
 "nbformat_minor": 2
}
